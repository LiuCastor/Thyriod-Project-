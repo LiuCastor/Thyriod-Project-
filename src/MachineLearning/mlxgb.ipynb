{
 "cells": [
  {
   "cell_type": "code",
   "execution_count": 4,
   "metadata": {},
   "outputs": [
    {
     "name": "stdout",
     "output_type": "stream",
     "text": [
      "(412, 57)\n",
      "(412, 49)\n",
      "(412, 106)\n",
      "(412, 1)\n"
     ]
    }
   ],
   "source": [
    "import json\n",
    "import numpy as np\n",
    "import pandas as pd\n",
    "resultfilename = \"C:\\\\Users\\\\alexl\\\\Desktop\\\\MedCoop\\\\data\\\\res50\\\\results.json\"\n",
    "with open(resultfilename, 'r') as f:\n",
    "    data = json.load(f)\n",
    "\n",
    "len(data)\n",
    "alldata = []\n",
    "for i in range(412):\n",
    "    alldata.append(np.array(data[2*i][\"features\"]).reshape([1,7*7]))\n",
    "\n",
    "radioXdf = pd.read_excel(\"C:\\\\Users\\\\alexl\\\\Desktop\\\\MedCoop\\\\data\\\\pyrad\\\\PyRadiomics.xlsx\").drop('Unnamed: 0',axis=1)\n",
    "radioX = radioXdf.to_numpy()\n",
    "print(radioX.shape)\n",
    "resX = np.concatenate(alldata,axis=0)\n",
    "print(resX.shape)\n",
    "X = np.concatenate([radioX,resX],axis=1)\n",
    "print(X.shape)\n",
    "y = np.load(\"C:\\\\Users\\\\alexl\\\\Desktop\\\\MedCoop\\\\code\\\\readed_data\\\\CaseResult.npy\")\n",
    "print(y.shape)\n",
    "\n"
   ]
  },
  {
   "cell_type": "code",
   "execution_count": 5,
   "metadata": {},
   "outputs": [
    {
     "name": "stderr",
     "output_type": "stream",
     "text": [
      "WARNING: Ignoring invalid distribution -pencv-python (c:\\users\\alexl\\anaconda3\\lib\\site-packages)\n",
      "WARNING: Ignoring invalid distribution -pencv-python (c:\\users\\alexl\\anaconda3\\lib\\site-packages)\n",
      "WARNING: Ignoring invalid distribution -pencv-python (c:\\users\\alexl\\anaconda3\\lib\\site-packages)\n",
      "WARNING: Ignoring invalid distribution -pencv-python (c:\\users\\alexl\\anaconda3\\lib\\site-packages)\n",
      "WARNING: Ignoring invalid distribution -pencv-python (c:\\users\\alexl\\anaconda3\\lib\\site-packages)\n",
      "WARNING: Ignoring invalid distribution -pencv-python (c:\\users\\alexl\\anaconda3\\lib\\site-packages)\n"
     ]
    },
    {
     "name": "stdout",
     "output_type": "stream",
     "text": [
      "Requirement already satisfied: xgboost in c:\\users\\alexl\\anaconda3\\lib\\site-packages (2.1.1)\n",
      "Requirement already satisfied: numpy in c:\\users\\alexl\\anaconda3\\lib\\site-packages (from xgboost) (1.21.5)\n",
      "Requirement already satisfied: scipy in c:\\users\\alexl\\anaconda3\\lib\\site-packages (from xgboost) (1.9.1)\n",
      "Accuracy: 0.58\n",
      "              precision    recall  f1-score   support\n",
      "\n",
      "           0       0.56      0.60      0.58        40\n",
      "           1       0.60      0.56      0.58        43\n",
      "\n",
      "    accuracy                           0.58        83\n",
      "   macro avg       0.58      0.58      0.58        83\n",
      "weighted avg       0.58      0.58      0.58        83\n",
      "\n"
     ]
    }
   ],
   "source": [
    "! pip install xgboost\n",
    "import numpy as np\n",
    "from sklearn.datasets import make_classification\n",
    "from sklearn.model_selection import train_test_split\n",
    "from xgboost import XGBClassifier\n",
    "from sklearn.metrics import accuracy_score, classification_report\n",
    "\n",
    "# Generate a sample dataset\n",
    "#X, y = make_classification(n_samples=1000, n_features=20, n_classes=2, random_state=42)\n",
    "\n",
    "# Split the data into training and testing sets\n",
    "X_train, X_test, y_train, y_test = train_test_split(X, y, test_size=0.2, random_state=42)\n",
    "\n",
    "# Create and train the XGBoost model\n",
    "model = XGBClassifier(n_estimators=100, learning_rate=0.1, random_state=42)\n",
    "model.fit(X_train, y_train)\n",
    "\n",
    "# Make predictions on the test set\n",
    "y_pred = model.predict(X_test)\n",
    "\n",
    "# Calculate accuracy\n",
    "accuracy = accuracy_score(y_test, y_pred)\n",
    "print(f\"Accuracy: {accuracy:.2f}\")\n",
    "print(classification_report(y_test, y_pred))\n"
   ]
  }
 ],
 "metadata": {
  "kernelspec": {
   "display_name": "base",
   "language": "python",
   "name": "python3"
  },
  "language_info": {
   "codemirror_mode": {
    "name": "ipython",
    "version": 3
   },
   "file_extension": ".py",
   "mimetype": "text/x-python",
   "name": "python",
   "nbconvert_exporter": "python",
   "pygments_lexer": "ipython3",
   "version": "3.9.13"
  }
 },
 "nbformat": 4,
 "nbformat_minor": 2
}
