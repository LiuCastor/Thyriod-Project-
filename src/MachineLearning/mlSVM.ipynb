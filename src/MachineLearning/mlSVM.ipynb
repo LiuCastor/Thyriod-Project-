{
 "cells": [
  {
   "cell_type": "code",
   "execution_count": 10,
   "metadata": {},
   "outputs": [
    {
     "name": "stdout",
     "output_type": "stream",
     "text": [
      "(412, 57)\n",
      "(412, 49)\n",
      "(412, 106)\n",
      "(412, 1)\n"
     ]
    }
   ],
   "source": [
    "import json\n",
    "import numpy as np\n",
    "import pandas as pd\n",
    "resultfilename = \"C:\\\\Users\\\\alexl\\\\Desktop\\\\MedCoop\\\\data\\\\res50\\\\results.json\"\n",
    "with open(resultfilename, 'r') as f:\n",
    "    data = json.load(f)\n",
    "\n",
    "len(data)\n",
    "alldata = []\n",
    "for i in range(412):\n",
    "    alldata.append(np.array(data[2*i][\"features\"]).reshape([1,7*7]))\n",
    "\n",
    "radioXdf = pd.read_excel(\"C:\\\\Users\\\\alexl\\\\Desktop\\\\MedCoop\\\\data\\\\pyrad\\\\PyRadiomics.xlsx\").drop('Unnamed: 0',axis=1)\n",
    "radioX = radioXdf.to_numpy()\n",
    "print(radioX.shape)\n",
    "resX = np.concatenate(alldata,axis=0)\n",
    "print(resX.shape)\n",
    "X = np.concatenate([radioX,resX],axis=1)\n",
    "print(X.shape)\n",
    "y = np.load(\"C:\\\\Users\\\\alexl\\\\Desktop\\\\MedCoop\\\\code\\\\readed_data\\\\CaseResult.npy\")\n",
    "print(y.shape)\n",
    "\n"
   ]
  },
  {
   "cell_type": "code",
   "execution_count": 11,
   "metadata": {},
   "outputs": [
    {
     "name": "stdout",
     "output_type": "stream",
     "text": [
      "Accuracy: 0.56\n",
      "\n",
      "Classification Report:\n",
      "              precision    recall  f1-score   support\n",
      "\n",
      "           0       0.60      0.25      0.35        60\n",
      "           1       0.55      0.84      0.66        64\n",
      "\n",
      "    accuracy                           0.56       124\n",
      "   macro avg       0.57      0.55      0.51       124\n",
      "weighted avg       0.57      0.56      0.51       124\n",
      "\n"
     ]
    },
    {
     "name": "stderr",
     "output_type": "stream",
     "text": [
      "c:\\Users\\alexl\\anaconda3\\lib\\site-packages\\sklearn\\utils\\validation.py:993: DataConversionWarning: A column-vector y was passed when a 1d array was expected. Please change the shape of y to (n_samples, ), for example using ravel().\n",
      "  y = column_or_1d(y, warn=True)\n"
     ]
    }
   ],
   "source": [
    "from sklearn import datasets\n",
    "from sklearn.model_selection import train_test_split\n",
    "from sklearn.svm import SVC\n",
    "from sklearn.metrics import accuracy_score, classification_report\n",
    "\n",
    "\n",
    "# Split the data into training and testing sets\n",
    "X_train, X_test, y_train, y_test = train_test_split(X, y, test_size=0.3, random_state=42)\n",
    "\n",
    "# Create and train the SVM model\n",
    "svm_classifier = SVC(kernel='rbf', random_state=42)\n",
    "svm_classifier.fit(X_train, y_train)\n",
    "\n",
    "# Make predictions on the test set\n",
    "y_pred = svm_classifier.predict(X_test)\n",
    "\n",
    "# Evaluate the model\n",
    "accuracy = accuracy_score(y_test, y_pred)\n",
    "print(f\"Accuracy: {accuracy:.2f}\")\n",
    "\n",
    "# Display detailed classification report\n",
    "print(\"\\nClassification Report:\")\n",
    "print(classification_report(y_test, y_pred))"
   ]
  },
  {
   "cell_type": "code",
   "execution_count": null,
   "metadata": {},
   "outputs": [],
   "source": []
  }
 ],
 "metadata": {
  "kernelspec": {
   "display_name": "base",
   "language": "python",
   "name": "python3"
  },
  "language_info": {
   "codemirror_mode": {
    "name": "ipython",
    "version": 3
   },
   "file_extension": ".py",
   "mimetype": "text/x-python",
   "name": "python",
   "nbconvert_exporter": "python",
   "pygments_lexer": "ipython3",
   "version": "3.9.13"
  }
 },
 "nbformat": 4,
 "nbformat_minor": 2
}
